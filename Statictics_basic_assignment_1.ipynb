{
  "nbformat": 4,
  "nbformat_minor": 0,
  "metadata": {
    "colab": {
      "provenance": []
    },
    "kernelspec": {
      "name": "python3",
      "display_name": "Python 3"
    },
    "language_info": {
      "name": "python"
    }
  },
  "cells": [
    {
      "cell_type": "markdown",
      "source": [
        "#STATISTICS BASIC- ASSIGNMENT-1"
      ],
      "metadata": {
        "id": "Jc6Bw651qf2-"
      }
    },
    {
      "cell_type": "markdown",
      "source": [
        "Q1.\tExplain the different types of data (qualitative and quantitative) and provide examples of each. Discuss nominal, ordinal, interval, and ratio scales.\n",
        "\n",
        "A1. Quantitative data is basically numerical data which can be divided into discrete data and continuous data. Discrete numerical  data example is number of children in a family(the number would be whole number). Continuous numerical data exmaple is height of children in a classroom (it would be real number).\n",
        "\n",
        "Qualitative data is basically categorical data which can be divided into nominal data and ordinal data. Nominal data has no order for example- female and male gender in a dataset. Ordinal data are categories with a meaningful order or rank,, for example- education level (High School, Bachelor's, Master's).\n",
        "\n",
        "Scales of Measurement are:\n",
        "1. Nominal Scale is for data in categories with no order or rank.For example: Blood types (A, B, AB, O).\n",
        "\n",
        "2. Ordinal Scale is for categorical data with a meaningful order, but differences between ranks are not standardized.For example: Customer satisfaction levels (Satisfied, Neutral, Unsatisfied).\n",
        "\n",
        "3. Interval Scale is numerical data with equal intervals between values, but no true zero point. Rank and order has meaning. For example:  Dates (e.g., years 2000, 2020).\n",
        "\n",
        "4. Ratio Scale is numerical data with equal intervals and a meaningful zero point, allowing for meaningful ratios.Rank and order has meaning. For example: Distance in kilometers.\n",
        "\n",
        "\n",
        "\n",
        "\n",
        "---\n",
        "\n",
        "\n",
        "\n",
        "Q2.\tWhat are the measures of central tendency, and when should you use each? Discuss the mean, median, and mode with examples and situations where each is appropriate.\n",
        "\n",
        "A2. Measures of central tendency are statistical tools that is used to summarize a dataset with a single value that represents its center.\n",
        "\n",
        "The mean is the arithmetic center, calculated by dividing the sum of all values by the number of values in the dataset. It is used in datasets where outliers are dealt with. Example, mean is used to find Average exam scores in a class.\n",
        "Dataset- 80,85,90\n",
        "Mean-(80+85+90)/3 = 85\n",
        "\n",
        " Median is the physical center of the sorted dataset, it is used where outliers are not dealt. For example, Median income in a country.\n",
        " Dataset- 80,85,90,1000\n",
        "Mean-(85+90)/2 = 87.5\n",
        "\n",
        " Mean and Median is used for continuous numerical data.\n",
        "\n",
        " The mode is the most frequently occurring value in a dataset. Used for categorical, ordinal, or discrete data. For example,Finding the most common gender in a dataset:\n",
        " Female, Male, Female,Female,Female,Male.\n",
        " The mode would be female as highest freqency.\n",
        "\n",
        "---\n",
        "\n",
        "\n",
        "Q3.\tExplain the concept of dispersion. How do variance and standard deviation measure the spread of data?\n",
        "\n",
        "A3. Dispersion refers to the extent to which a set of data values are spread out in the dataset. The measures of dispersion- variance and standard deviation actually talks about the data values being deviated from the mean of the dataset.\n",
        "\n",
        "Variance measures the average squared deviation of each data point from the mean. A higher variance indicates greater dispersion in the dataset.\n",
        "\n",
        "Standard deviation is the square root of the variance,i.e. the square root of the average squared deviation of each value from mean. Represented by sigma. The standard deviation provides a more intuitive measure of spread compared to variance since it uses the same units as the data.\n",
        "\n",
        "These measures help assess spread of data, detect outliers, and compare datasets effectively. Higher the standard deviation, higher is the spread of data and higher chance of outliers being present in the dataset.\n",
        "\n",
        "---\n",
        "\n",
        "\n",
        "Q4.\tWhat is a box plot, and what can it tell you about the distribution of data?\n",
        "\n",
        "A4. A box-whisker plot is a graphical representation of the distribution of a dataset. It provides a key descriptive statistics summary of the data by plot and is used for identifying the spread, center, and potential outliers in the data.\n",
        "\n",
        "In the graph, there is a box which has lower line showing Q1 and upper line Q3 which divided by line Q2 . Q1 is 25th percentile, Q2 is 50th percentile and Q3 is 75th Percentile. The interquartile range(IQR) is Q3-Q1, the lower whisker is Q1-1.5IQR and the upper whisker is Q3+1.5IQR.\n",
        "\n",
        "The Boxplot shows the Q2- the median line, the whiskers indicate the overall spread, excluding outliers. Any data points outside the whiskers are potential outliers. If the box is divided equally by Q2 then the skewness is 0 but if more closer to Q3 then skewness>0 and if closer to Q1 the Skewness <0.\n",
        "\n",
        "---\n",
        "\n",
        "\n",
        "Q5.\tDiscuss the role of random sampling in making inferences about populations.\n",
        "\n",
        "A5. Random sampling is a technique in statistics that ensures a sample accurately represents a larger population. It involves selecting individuals from the population in such a way that each member has an equal probability of being included. This unbiased method is crucial for drawing valid inferences about populations. Random sampling ensures to minimize selection bias.\n",
        "The application of random sampling is it provides a basis for estimating population parameters like mean within a confidence level.\n",
        "\n",
        "---\n",
        "\n"
      ],
      "metadata": {
        "id": "xC_8bCKTq2F2"
      }
    },
    {
      "cell_type": "markdown",
      "source": [
        "Q6. Explain the concept of skewness and its types. How does skewness affect the interpretation of data?\n",
        "\n",
        "A6. Skewness is a measure of symmetricity in the distribution of a dataset. In positively skewed distributions, the right tail (larger values) is longer or fatter than the left tail, so mean>= median>=mode. In negatively skewed distributions, the left tail (smaller values) is longer or fatter than the right tail, so mean<= median<=mode. In skewness =0 ,the distribution is perfectly symmetrical, meaning the left and right tails are of equal length, so mean= median=mode.\n",
        "\n",
        "Skewness often suggests the presence of outliers, which have to be dealt with before machine learning processes. If skewness is present, data transformations (like log transformation) may be used to normalize the distribution. Many statistical tests, CLT, etc assumes data follows a normal distribution, skewness can violate this assumption, leading to incorrect conclusions.\n",
        "\n",
        "\n",
        "---\n",
        "Q7. What is IQR- interquartile range and how does it detect the outliers?\n",
        "\n",
        "A7. The Interquartile Range (IQR) is a measure of the spread of a dataset. It is the difference between the third quartile (Q3)-75th percentile (The value below which 75% of the data falls) and the first quartile (Q1)-25th percentile (The value below which 25% of the data falls). In box plot, the upper whisker is Q3+1.5×IQR and lower whisker is Q1−1.5×IQR. So any points above upper whisker or lower than lower whisker is considered an outlier.\n",
        "\n",
        "\n",
        "\n",
        "---\n",
        "Q8. Dicuss the conditions under the Binomial distribution is used?\n",
        "\n",
        "A8. The Binomial distribution is a probability distribution used to model the number of successes in a fixed number of independent trials (n), where each trial has the same probability of success. So the conditions would be there are n independent trails, with outcome of success and failure and each trial probability of success remains the same.\n",
        "\n",
        "\n",
        "\n",
        "---\n",
        "Q9. Explain the properties of normal distribution and the empirical rule(68-95-99.7 rule).\n",
        "\n",
        "A9. The properties of normal distribution is mean= median = mode, the skewness is 0 that means there is symmetricity around the mean. The shape of the distribution is bell-shaped, with most of the data points clustered around the mean. The empirical rule(68-95-99.7 rule) is 68% of the data lies within 1 standard deviation of the mean, 95% of the data lies within 2 standard deviations of the mean and 99.7% of the data lies within 3 standard deviations of the mean.\n",
        "\n",
        "\n",
        "\n",
        "---\n",
        "\n"
      ],
      "metadata": {
        "id": "NfWwQlqUrPnA"
      }
    },
    {
      "cell_type": "code",
      "source": [
        "#Q10. Provide a real life example of a Poisson process and calculate the probability for a specific event.\n",
        "\n",
        "#A10.\n",
        "#A poisson distribution is a discrete probability distribution that describes the number of events that occur within a fixed interval of time or space given a know avergae rate of occurence.\n",
        "\n",
        "#Example- Imagine a customer support center receives, on average, 10 calls per hour.\n",
        "#These calls are independent of one another, and the probability of a call occurring is the same throughout any given time period.\n",
        "#What is the probability that the support center receives exactly 8 calls in one hour?"
      ],
      "metadata": {
        "id": "2Kls1lgKLLJt"
      },
      "execution_count": null,
      "outputs": []
    },
    {
      "cell_type": "code",
      "source": [
        "import numpy as np\n",
        "from scipy.stats import poisson\n",
        "\n",
        "# Define the average arrival rate (lambda)\n",
        "lambda_1 = 10\n",
        "\n",
        "# Define the number of calls we want to find the probability for (k)\n",
        "k = 8\n",
        "\n",
        "probability = poisson.pmf(k, lambda_1)\n",
        "\n",
        "print(f\"Probability of receiving exactly 8 calls in an hour is : {probability}\")"
      ],
      "metadata": {
        "colab": {
          "base_uri": "https://localhost:8080/"
        },
        "id": "6-R_if1Z5jmJ",
        "outputId": "743f7b36-c209-4dc7-bcf5-3e92e9b9be93"
      },
      "execution_count": 6,
      "outputs": [
        {
          "output_type": "stream",
          "name": "stdout",
          "text": [
            "Probability of receiving exactly 8 calls in an hour is : 0.11259903214902009\n"
          ]
        }
      ]
    },
    {
      "cell_type": "markdown",
      "source": [
        "\n",
        "\n",
        "\n",
        "\n",
        "---\n",
        "Q11.Explain what a Random variable is and differentiate between discrete and continuous random variables.\n",
        "\n",
        "A11. A random variable is a function that maps outcomes of a random experiment to real numbers.\n",
        "1. Discrete Random Variables is a variable if it can take on only a finite or countable number of distinct values. For example- no of cars passing a toll booth.\n",
        "2. Continuous Random Variables is a variable if it can take on an infinite number of values within a given range. For example- height of students in a class.\n",
        "\n",
        "---"
      ],
      "metadata": {
        "id": "mUB-TMYAsukC"
      }
    },
    {
      "cell_type": "code",
      "source": [
        "#Q12.Provide an example dataset, calculate both covariance and correlation, and interpret the results.\n",
        "\n",
        "import numpy as np\n",
        "import seaborn as sns\n",
        "\n",
        "x = np.array([-2, -4, 5, 6, 8])\n",
        "y = np.array([3, 6, 7, 8, 12])\n",
        "\n",
        "# Covariance\n",
        "cov_xy = np.cov(x, y)[0, 1]\n",
        "cov_xy"
      ],
      "metadata": {
        "colab": {
          "base_uri": "https://localhost:8080/"
        },
        "id": "DgnkhsIznHHx",
        "outputId": "8f550b35-abff-4a8f-b3cf-6db653d610a3"
      },
      "execution_count": null,
      "outputs": [
        {
          "output_type": "execute_result",
          "data": {
            "text/plain": [
              "13.85"
            ]
          },
          "metadata": {},
          "execution_count": 25
        }
      ]
    },
    {
      "cell_type": "code",
      "source": [
        "# Correlation\n",
        "corr_xy = np.corrcoef(x, y)[0, 1]\n",
        "corr_xy"
      ],
      "metadata": {
        "colab": {
          "base_uri": "https://localhost:8080/"
        },
        "id": "C-uiQBcrpeWl",
        "outputId": "ed23a493-d405-499c-8d22-be153ae426de"
      },
      "execution_count": null,
      "outputs": [
        {
          "output_type": "execute_result",
          "data": {
            "text/plain": [
              "0.8030368718654657"
            ]
          },
          "metadata": {},
          "execution_count": 26
        }
      ]
    },
    {
      "cell_type": "code",
      "source": [
        "#Cov= 13.85 shows that as x increases, y also tends to increase.\n",
        "#The Covariance is a measure of how much two random variables change together, though it is not standardized as covariance can vary from -infinity to infinity"
      ],
      "metadata": {
        "id": "sgqgdu1ZqPYd"
      },
      "execution_count": null,
      "outputs": []
    },
    {
      "cell_type": "code",
      "source": [
        "#Correlation of 0.803 shows a very strong positive linear relationship between x and y. As Correlation goes between -1 to 1."
      ],
      "metadata": {
        "id": "lPz_3pUlq-jj"
      },
      "execution_count": null,
      "outputs": []
    }
  ]
}